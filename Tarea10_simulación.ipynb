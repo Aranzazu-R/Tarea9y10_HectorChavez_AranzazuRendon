{
 "cells": [
  {
   "cell_type": "markdown",
   "id": "known-breach",
   "metadata": {},
   "source": [
    "<img style=\"float: left; margin: 30px 15px 15px 15px;\" src=\"https://pngimage.net/wp-content/uploads/2018/06/logo-iteso-png-5.png\" width=\"300\" height=\"500\" /> \n",
    "    \n",
    "    \n",
    "### <font color='navy'> Simulación de procesos financieros. \n",
    "\n",
    "**Nombres:** Aranzazú Rendón Gómez, Héctor Daniel Chavez Orozco.\n",
    "    \n",
    "**Fecha:** 07 de mayo del 2021.\n",
    "\n",
    "**Expediente:** 722272, 713442.\n",
    "**Profesor:** Oscar David Jaramillo Zuluaga.\n",
    "\n",
    "# Tarea 10: Clase 23\n",
    "    \n",
    "Liga del repositorio: https://github.com/Aranzazu-R/Tarea9y10_HectorChavez_AranzazuRendon.git"
   ]
  },
  {
   "cell_type": "markdown",
   "id": "balanced-array",
   "metadata": {},
   "source": [
    "# Enunciado Tarea\n",
    "\n",
    "Implementar el método de esquemas del trapecio, para valuar la opción call y put asiática con precio inicial, $S_0 = 100$, precio de ejercicio $K = 100$, tasa libre de riesgo $r = 0.10$, volatilidad $\\sigma = 0.20$ y $T = 1$ año. Cuyo precio es $\\approx 7.04$. Realizar la simulación en base a la siguiente tabla:\n",
    "![imagen.png](tabla_tarea10.png)\n",
    "\n",
    "Observe que en esta tabla se encuentran los intervalos de confianza de la aproximación obtenida y además el tiempo de simulación que tarda en encontrar la respuesta cada método. \n",
    "- Se debe entonces realizar una simulación para la misma cantidad de trayectorias y número de pasos y construir una Dataframe de pandas para reportar todos los resultados obtenidos.**(70 puntos)**\n",
    "- Compare los resultados obtenidos con los resultados arrojados por la función `Riemann_approach`. Concluya. **(30 puntos)**"
   ]
  },
  {
   "cell_type": "markdown",
   "id": "abandoned-there",
   "metadata": {},
   "source": [
    "Se habilitará un enlace en canvas donde se adjuntará los resultados de dicha tarea\n",
    "\n",
    ">**Nota:** Para generar índices de manera como se especifica en la tabla referirse a:\n",
    "> - https://pandas.pydata.org/pandas-docs/stable/user_guide/advanced.html\n",
    "> - https://jakevdp.github.io/PythonDataScienceHandbook/03.05-hierarchical-indexing.html\n",
    "> - https://pandas.pydata.org/pandas-docs/stable/reference/api/pandas.MultiIndex.html\n",
    "\n"
   ]
  },
  {
   "cell_type": "markdown",
   "id": "imposed-norman",
   "metadata": {},
   "source": [
    "## RESPUESTA HECTOR"
   ]
  },
  {
   "cell_type": "code",
   "execution_count": null,
   "id": "suited-stevens",
   "metadata": {},
   "outputs": [],
   "source": []
  },
  {
   "cell_type": "code",
   "execution_count": null,
   "id": "consolidated-decrease",
   "metadata": {},
   "outputs": [],
   "source": []
  },
  {
   "cell_type": "code",
   "execution_count": null,
   "id": "concerned-conflict",
   "metadata": {},
   "outputs": [],
   "source": []
  },
  {
   "cell_type": "code",
   "execution_count": null,
   "id": "sensitive-confidentiality",
   "metadata": {},
   "outputs": [],
   "source": []
  },
  {
   "cell_type": "code",
   "execution_count": null,
   "id": "seven-founder",
   "metadata": {},
   "outputs": [],
   "source": []
  },
  {
   "cell_type": "markdown",
   "id": "detailed-pharmaceutical",
   "metadata": {},
   "source": [
    "## RESPUESTA ARANZAZU"
   ]
  },
  {
   "cell_type": "code",
   "execution_count": null,
   "id": "infectious-donna",
   "metadata": {},
   "outputs": [],
   "source": []
  },
  {
   "cell_type": "code",
   "execution_count": null,
   "id": "second-politics",
   "metadata": {},
   "outputs": [],
   "source": []
  },
  {
   "cell_type": "code",
   "execution_count": null,
   "id": "wireless-insurance",
   "metadata": {},
   "outputs": [],
   "source": []
  },
  {
   "cell_type": "code",
   "execution_count": null,
   "id": "wicked-installation",
   "metadata": {},
   "outputs": [],
   "source": []
  },
  {
   "cell_type": "code",
   "execution_count": null,
   "id": "crucial-kansas",
   "metadata": {},
   "outputs": [],
   "source": []
  }
 ],
 "metadata": {
  "kernelspec": {
   "display_name": "Python 3",
   "language": "python",
   "name": "python3"
  },
  "language_info": {
   "codemirror_mode": {
    "name": "ipython",
    "version": 3
   },
   "file_extension": ".py",
   "mimetype": "text/x-python",
   "name": "python",
   "nbconvert_exporter": "python",
   "pygments_lexer": "ipython3",
   "version": "3.6.12"
  }
 },
 "nbformat": 4,
 "nbformat_minor": 5
}
